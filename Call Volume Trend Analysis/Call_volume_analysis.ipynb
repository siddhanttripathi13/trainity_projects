{
  "nbformat": 4,
  "nbformat_minor": 0,
  "metadata": {
    "colab": {
      "private_outputs": true,
      "provenance": [],
      "toc_visible": true,
      "authorship_tag": "ABX9TyMHD12gfCMA7/i+JXLKWs6t",
      "include_colab_link": true
    },
    "kernelspec": {
      "name": "python3",
      "display_name": "Python 3"
    },
    "language_info": {
      "name": "python"
    }
  },
  "cells": [
    {
      "cell_type": "markdown",
      "metadata": {
        "id": "view-in-github",
        "colab_type": "text"
      },
      "source": [
        "<a href=\"https://colab.research.google.com/github/siddhanttripathi13/trainity_projects/blob/master/Call%20Volume%20Trend%20Analysis/Call_volume_analysis.ipynb\" target=\"_parent\"><img src=\"https://colab.research.google.com/assets/colab-badge.svg\" alt=\"Open In Colab\"/></a>"
      ]
    },
    {
      "cell_type": "code",
      "source": [
        "from google.colab import drive\n",
        "drive.mount('/content/drive')"
      ],
      "metadata": {
        "id": "WyTR7D5NoD3w"
      },
      "execution_count": null,
      "outputs": []
    },
    {
      "cell_type": "code",
      "source": [
        "# Importing libraries\n",
        "import pandas as pd\n",
        "import numpy as np\n",
        "import seaborn as sns\n",
        "import matplotlib.pyplot as plt\n",
        "\n",
        "# Config\n",
        "sns.set_style('ticks')\n",
        "plt.style.use('dark_background')\n",
        "pd.set_option('display.max_columns', None)"
      ],
      "metadata": {
        "id": "j921JcbloVL0"
      },
      "execution_count": null,
      "outputs": []
    },
    {
      "cell_type": "code",
      "source": [
        "# Import data\n",
        "df = pd.read_excel('/content/drive/MyDrive/Trainity Assignments/ABC Call Volume Trend Analysis/data/Call_Volume_Trend_Analysis_Project_9.xlsx')\n",
        "df.head()"
      ],
      "metadata": {
        "id": "xGxFpKz0ohcS"
      },
      "execution_count": null,
      "outputs": []
    },
    {
      "cell_type": "code",
      "source": [
        "df.info()"
      ],
      "metadata": {
        "id": "ARcfDLu5ozK-"
      },
      "execution_count": null,
      "outputs": []
    },
    {
      "cell_type": "code",
      "source": [
        "df_work = df.copy(deep=True)"
      ],
      "metadata": {
        "id": "Tw0vtyW_p_xZ"
      },
      "execution_count": null,
      "outputs": []
    },
    {
      "cell_type": "code",
      "source": [
        "df_work.rename(columns={'Queue_Time(Secs)':'Q_Time', 'Duration(hh:mm:ss)':'Duration', 'Call_Seconds (s)':'Call_Seconds',\n",
        "                        'IVR _Duration':'IVR_Duration','Wrapped _By':'Wrapped_By'}, inplace=True)\n",
        "df_work.info()"
      ],
      "metadata": {
        "id": "ohVKVuXjqtay"
      },
      "execution_count": null,
      "outputs": []
    },
    {
      "cell_type": "code",
      "source": [
        "df_work['Duration'] = pd.to_timedelta(df_work['Duration'].astype(str))\n",
        "df_work.info()"
      ],
      "metadata": {
        "id": "gDZBZuvTrVWj"
      },
      "execution_count": null,
      "outputs": []
    },
    {
      "cell_type": "code",
      "source": [
        "df_work.head()"
      ],
      "metadata": {
        "id": "3QZdg71zsUe4"
      },
      "execution_count": null,
      "outputs": []
    },
    {
      "cell_type": "code",
      "source": [
        "df_work['IVR_Duration'] = pd.to_timedelta(df_work['IVR_Duration'].astype(str))\n",
        "df_work.head()"
      ],
      "metadata": {
        "id": "Bv-ZkRhDt0F9"
      },
      "execution_count": null,
      "outputs": []
    },
    {
      "cell_type": "code",
      "source": [
        "df_work.columns"
      ],
      "metadata": {
        "id": "BZs72xWluMV4"
      },
      "execution_count": null,
      "outputs": []
    },
    {
      "cell_type": "code",
      "source": [
        "df_work.drop_duplicates(ignore_index=True, inplace=True)\n",
        "df_work.info()"
      ],
      "metadata": {
        "id": "neLD0n5tvghX"
      },
      "execution_count": null,
      "outputs": []
    },
    {
      "cell_type": "markdown",
      "source": [
        "## Exploratory Data Analysis"
      ],
      "metadata": {
        "id": "BUEs6VlBvOd7"
      }
    },
    {
      "cell_type": "markdown",
      "source": [
        "### Agent Name"
      ],
      "metadata": {
        "id": "FuLrEhKmxzpB"
      }
    },
    {
      "cell_type": "code",
      "source": [
        "df_work.Agent_Name.nunique()"
      ],
      "metadata": {
        "id": "JSM7ygd0uaKg"
      },
      "execution_count": null,
      "outputs": []
    },
    {
      "cell_type": "code",
      "source": [
        "df_work.Agent_Name.value_counts().sort_values(ascending=False)"
      ],
      "metadata": {
        "id": "tZz4H1qgvZzZ"
      },
      "execution_count": null,
      "outputs": []
    },
    {
      "cell_type": "markdown",
      "source": [
        "### Queue Time"
      ],
      "metadata": {
        "id": "kpQgilfIx3Cb"
      }
    },
    {
      "cell_type": "code",
      "source": [
        "df_work.Q_Time.value_counts()"
      ],
      "metadata": {
        "id": "VlbiIZPVwIIV"
      },
      "execution_count": null,
      "outputs": []
    },
    {
      "cell_type": "code",
      "source": [
        "sns.histplot(data=df_work, x='Q_Time', kde=True)\n",
        "plt.xlabel('Queue Time (s)')\n",
        "plt.show()"
      ],
      "metadata": {
        "id": "HGwMdo6awfoc"
      },
      "execution_count": null,
      "outputs": []
    },
    {
      "cell_type": "code",
      "source": [
        "sns.boxplot(data=df_work, x='Q_Time')\n",
        "plt.xlabel('Queue Time (s)')\n",
        "plt.show()"
      ],
      "metadata": {
        "id": "pteL24DbxBQP"
      },
      "execution_count": null,
      "outputs": []
    },
    {
      "cell_type": "code",
      "source": [
        "df_work['Day_of_month'] = df_work['Date_&_Time'].dt.day\n",
        "df_work.groupby('Day_of_month')['Q_Time'].mean().plot(kind='bar')\n",
        "plt.show()"
      ],
      "metadata": {
        "id": "Nm0ZVDRJOom3"
      },
      "execution_count": null,
      "outputs": []
    },
    {
      "cell_type": "code",
      "source": [
        "df_work['Day_name'] = df_work['Date_&_Time'].dt.day_name()\n",
        "sns.barplot(data=df_work.groupby('Day_name')[['Q_Time']].mean(), x=df_work.groupby('Day_name')['Q_Time'].mean().index, y=df_work.groupby('Day_name')['Q_Time'].mean().values,\n",
        "            order=['Monday','Tuesday','Wednesday','Thursday','Friday','Saturday','Sunday'])"
      ],
      "metadata": {
        "id": "jtL3T0muPGha"
      },
      "execution_count": null,
      "outputs": []
    },
    {
      "cell_type": "markdown",
      "source": [
        "### Date and Time"
      ],
      "metadata": {
        "id": "B6L8zQTvx7yA"
      }
    },
    {
      "cell_type": "code",
      "source": [
        "df_work.Time.unique()"
      ],
      "metadata": {
        "id": "jwS4C6AVxgxq"
      },
      "execution_count": null,
      "outputs": []
    },
    {
      "cell_type": "code",
      "source": [
        "sns.countplot(data=df_work, x='Time')\n",
        "plt.xlabel(\"Time of day\")\n",
        "plt.show()"
      ],
      "metadata": {
        "id": "Oz92LqSiyCuq"
      },
      "execution_count": null,
      "outputs": []
    },
    {
      "cell_type": "code",
      "source": [
        "\n",
        "plt.figure(figsize=(10,5))\n",
        "sns.countplot(data=df_work, x='Day_name', order=['Monday','Tuesday','Wednesday','Thursday','Friday','Saturday','Sunday'])\n",
        "plt.xlabel(\"Day of week\")\n",
        "plt.show()"
      ],
      "metadata": {
        "id": "2SY9Rj9byNRI"
      },
      "execution_count": null,
      "outputs": []
    },
    {
      "cell_type": "code",
      "source": [
        "df_work['Date_&_Time'].dt.strftime(\"%B\").value_counts()"
      ],
      "metadata": {
        "id": "3-6xutu_0Yk4"
      },
      "execution_count": null,
      "outputs": []
    },
    {
      "cell_type": "code",
      "source": [
        "\n",
        "plt.figure(figsize=(10,5))\n",
        "sns.countplot(data=df_work, x='Day_of_month')\n",
        "plt.xlabel('Day of month')\n",
        "plt.show()"
      ],
      "metadata": {
        "id": "kdcOt8585WxZ"
      },
      "execution_count": null,
      "outputs": []
    },
    {
      "cell_type": "code",
      "source": [
        "df['Date_&_Time'].dt.day.unique()"
      ],
      "metadata": {
        "id": "iEjbtw8W6NoZ"
      },
      "execution_count": null,
      "outputs": []
    },
    {
      "cell_type": "markdown",
      "source": [
        "### Duration"
      ],
      "metadata": {
        "id": "C_XqPc75-wXp"
      }
    },
    {
      "cell_type": "code",
      "source": [
        "sns.boxplot(data=df_work['Duration'].dt.total_seconds())\n",
        "plt.show()"
      ],
      "metadata": {
        "id": "tB7Pe_EL7i3Y"
      },
      "execution_count": null,
      "outputs": []
    },
    {
      "cell_type": "code",
      "source": [
        "sns.histplot(data=df_work[df_work['Call_Status']!='abandon']['Duration'].dt.total_seconds())\n",
        "plt.show()"
      ],
      "metadata": {
        "id": "zCNME7mz931L"
      },
      "execution_count": null,
      "outputs": []
    },
    {
      "cell_type": "code",
      "source": [
        "df_work['Duration'].dt.total_seconds().value_counts().sort_index(ascending=False)"
      ],
      "metadata": {
        "id": "KKMPF1yGBfac"
      },
      "execution_count": null,
      "outputs": []
    },
    {
      "cell_type": "code",
      "source": [
        "df_work[df_work['Duration'].dt.total_seconds()>1000]"
      ],
      "metadata": {
        "id": "YS64XVMPBt-f"
      },
      "execution_count": null,
      "outputs": []
    },
    {
      "cell_type": "code",
      "source": [
        "df_work.groupby('Day_of_month')['Call_Seconds'].mean().plot(kind='bar')\n",
        "plt.show()"
      ],
      "metadata": {
        "id": "IbfvubWXQbQK"
      },
      "execution_count": null,
      "outputs": []
    },
    {
      "cell_type": "code",
      "source": [
        "sns.barplot(data=df_work.groupby('Day_name')[['Call_Seconds']].mean(), x=df_work.groupby('Day_name')['Call_Seconds'].mean().index, y=df_work.groupby('Day_name')['Call_Seconds'].mean().values,\n",
        "            order=['Monday','Tuesday','Wednesday','Thursday','Friday','Saturday','Sunday'])\n",
        "plt.show()"
      ],
      "metadata": {
        "id": "oZZ98GchQyJR"
      },
      "execution_count": null,
      "outputs": []
    },
    {
      "cell_type": "markdown",
      "source": [
        "### Call Status"
      ],
      "metadata": {
        "id": "y_-6d8_Tmepm"
      }
    },
    {
      "cell_type": "code",
      "source": [
        "sns.countplot(data=df_work, x='Call_Status')\n",
        "plt.show()"
      ],
      "metadata": {
        "id": "kT7htiZ1CJnq"
      },
      "execution_count": null,
      "outputs": []
    },
    {
      "cell_type": "code",
      "source": [
        "\n",
        "plt.figure(figsize=(10,5))\n",
        "sns.countplot(data=df_work, x='Day_of_month',hue='Call_Status')\n",
        "plt.xticks(np.arange(0,24))\n",
        "plt.xlabel('Day of month')\n",
        "plt.show()"
      ],
      "metadata": {
        "id": "mwzqIC4jmnYb"
      },
      "execution_count": null,
      "outputs": []
    },
    {
      "cell_type": "code",
      "source": [
        "sns.countplot(data=df_work, x='Day_name',hue='Call_Status', order=['Monday','Tuesday','Wednesday','Thursday','Friday','Saturday','Sunday'])\n",
        "plt.xlabel('Day of week')\n",
        "plt.show()"
      ],
      "metadata": {
        "id": "UvCzcKKFS1EN"
      },
      "execution_count": null,
      "outputs": []
    },
    {
      "cell_type": "markdown",
      "source": [
        "### Wrapped By"
      ],
      "metadata": {
        "id": "Q1JWFMsLpT1h"
      }
    },
    {
      "cell_type": "code",
      "source": [
        "df_work['Wrapped_By'].value_counts().plot(kind='bar')"
      ],
      "metadata": {
        "id": "dacwZa5bnMjj"
      },
      "execution_count": null,
      "outputs": []
    },
    {
      "cell_type": "code",
      "source": [
        "sns.countplot(data=df_work, x='Wrapped_By', hue='Call_Status')\n",
        "plt.show()"
      ],
      "metadata": {
        "id": "D-sO3Nl_pa-M"
      },
      "execution_count": null,
      "outputs": []
    },
    {
      "cell_type": "markdown",
      "source": [
        "### Ringing"
      ],
      "metadata": {
        "id": "8bjfmqD9qS17"
      }
    },
    {
      "cell_type": "code",
      "source": [
        "df_work['Ringing'].value_counts()"
      ],
      "metadata": {
        "id": "e8dHn0pvqJmm"
      },
      "execution_count": null,
      "outputs": []
    },
    {
      "cell_type": "markdown",
      "source": [
        "### IVR Duration"
      ],
      "metadata": {
        "id": "7FRA_Wu0qlNA"
      }
    },
    {
      "cell_type": "code",
      "source": [
        "df_work['IVR_Duration_seconds'] = df_work['IVR_Duration'].dt.total_seconds()\n",
        "sns.boxplot(data=df_work, y='IVR_Duration_seconds', x='Call_Status')\n",
        "plt.show()"
      ],
      "metadata": {
        "id": "RMJ-BrA7qaAg"
      },
      "execution_count": null,
      "outputs": []
    },
    {
      "cell_type": "code",
      "source": [
        "df_work[df_work['IVR_Duration'].dt.total_seconds()>3000]"
      ],
      "metadata": {
        "id": "5Rf4YvOYq4a5"
      },
      "execution_count": null,
      "outputs": []
    },
    {
      "cell_type": "code",
      "source": [
        "df_work.groupby('Day_of_month')['IVR_Duration_seconds'].mean().plot(kind='bar')"
      ],
      "metadata": {
        "id": "49wxvT8FTWDi"
      },
      "execution_count": null,
      "outputs": []
    },
    {
      "cell_type": "code",
      "source": [
        "sns.barplot(x=df_work.groupby('Day_name')['IVR_Duration_seconds'].mean().index, y=df_work.groupby('Day_name')['IVR_Duration_seconds'].mean().values,\n",
        "            order=['Monday','Tuesday','Wednesday','Thursday','Friday','Saturday','Sunday'])"
      ],
      "metadata": {
        "id": "BusFJ6CLULzv"
      },
      "execution_count": null,
      "outputs": []
    },
    {
      "cell_type": "code",
      "source": [
        "df_work.isna().sum()/len(df_work)"
      ],
      "metadata": {
        "id": "SUmGYvPurIlT"
      },
      "execution_count": null,
      "outputs": []
    },
    {
      "cell_type": "markdown",
      "source": [
        "## Descriptive Analysis"
      ],
      "metadata": {
        "id": "iiTnBHHgV0OF"
      }
    },
    {
      "cell_type": "markdown",
      "source": [
        "#### Average Call Duration per Time Bucket"
      ],
      "metadata": {
        "id": "kB9dyS_mV5kz"
      }
    },
    {
      "cell_type": "code",
      "source": [
        "avg_call_duration = df_work[df_work['Call_Seconds']>0].groupby('Time_Bucket')[['Call_Seconds']].mean().reset_index()\n",
        "plt.figure(figsize=(10,5))\n",
        "ax = sns.barplot(data=avg_call_duration, x='Time_Bucket', y='Call_Seconds',\n",
        "            order=['9_10','10_11','11_12','12_13','13_14','14_15','15_16','16_17','17_18','18_19','19_20','20_21'])\n",
        "ax.bar_label(ax.containers[0])\n",
        "plt.show()"
      ],
      "metadata": {
        "id": "cTHfycD3OMw8"
      },
      "execution_count": null,
      "outputs": []
    },
    {
      "cell_type": "code",
      "source": [
        "avg_call_duration = df_work[df_work['Call_Status']=='answered']['Call_Seconds'].mean()\n",
        "avg_call_duration"
      ],
      "metadata": {
        "id": "o1HR_GQoA1-m"
      },
      "execution_count": null,
      "outputs": []
    },
    {
      "cell_type": "markdown",
      "source": [
        "#### Call Volume per Time Bucket"
      ],
      "metadata": {
        "id": "NM-onri_ZfRJ"
      }
    },
    {
      "cell_type": "code",
      "source": [
        "plt.figure(figsize=(10,5))\n",
        "ax = sns.countplot(data=df_work, x='Time_Bucket')\n",
        "ax.bar_label(ax.containers[0])\n",
        "plt.show()"
      ],
      "metadata": {
        "id": "qQV0ncWFWM-v"
      },
      "execution_count": null,
      "outputs": []
    },
    {
      "cell_type": "markdown",
      "source": [
        "#### Daytime Manpower Planning"
      ],
      "metadata": {
        "id": "1M-OJlk5ZyjO"
      }
    },
    {
      "cell_type": "code",
      "source": [
        "df_work['Call_Status'].value_counts()/len(df_work)"
      ],
      "metadata": {
        "id": "4JWGlm4HZQ__"
      },
      "execution_count": null,
      "outputs": []
    },
    {
      "cell_type": "code",
      "source": [
        "plt.figure(figsize=(10,5))\n",
        "sns.barplot(x=df_work.groupby('Time_Bucket')['Agent_ID'].nunique().index, y=df_work.groupby('Time_Bucket')['Agent_ID'].nunique().values,\n",
        "            order=['9_10','10_11','11_12','12_13','13_14','14_15','15_16','16_17','17_18','18_19','19_20','20_21'])\n",
        "plt.show()"
      ],
      "metadata": {
        "id": "nGUAkIQYZ6bt"
      },
      "execution_count": null,
      "outputs": []
    },
    {
      "cell_type": "code",
      "source": [
        "plt.figure(figsize=(10,5))\n",
        "sns.countplot(data=df_work, x='Time_Bucket', hue='Call_Status')\n",
        "plt.show()"
      ],
      "metadata": {
        "id": "vsCXaD0qar4D"
      },
      "execution_count": null,
      "outputs": []
    },
    {
      "cell_type": "code",
      "source": [
        "df_work.groupby('Time_Bucket')['Call_Status'].count()"
      ],
      "metadata": {
        "id": "oKTMDomXbKJ5"
      },
      "execution_count": null,
      "outputs": []
    },
    {
      "cell_type": "code",
      "source": [
        "df_call_status_pivot = df_work.pivot_table(index='Time_Bucket', columns='Call_Status', values='Ringing', aggfunc='count').reindex(index=['9_10','10_11','11_12','12_13','13_14','14_15','15_16','16_17','17_18','18_19','19_20','20_21'])\n",
        "df_call_status_pivot['answer_rate'] = df_call_status_pivot['answered']/(df_call_status_pivot['abandon'] + df_call_status_pivot['answered'] + df_call_status_pivot['transfer'])\n",
        "df_call_status_pivot"
      ],
      "metadata": {
        "id": "FsAkzlqiehW8"
      },
      "execution_count": null,
      "outputs": []
    },
    {
      "cell_type": "code",
      "source": [
        "df_agents_time = df_work.groupby('Time_Bucket')[['Agent_ID']].nunique().reindex(index=['9_10','10_11','11_12','12_13','13_14','14_15','15_16','16_17','17_18','18_19','19_20','20_21'])"
      ],
      "metadata": {
        "id": "HbH8T774e8r7"
      },
      "execution_count": null,
      "outputs": []
    },
    {
      "cell_type": "code",
      "source": [
        "manpow_plan = pd.merge(df_call_status_pivot, df_agents_time, left_index=True, right_index=True)\n",
        "manpow_plan"
      ],
      "metadata": {
        "id": "nNIPPVhTjCrx"
      },
      "execution_count": null,
      "outputs": []
    },
    {
      "cell_type": "code",
      "source": [
        "manpow_plan.rename(columns={'Agent_ID':'Num_Agents'}, inplace=True)\n",
        "manpow_plan"
      ],
      "metadata": {
        "id": "fRWjkFcGk33x"
      },
      "execution_count": null,
      "outputs": []
    },
    {
      "cell_type": "code",
      "source": [
        "manpow_plan['Extra_Agents_required'] = (np.ceil(0.9*manpow_plan['Num_Agents']/manpow_plan['answer_rate'] - manpow_plan['Num_Agents'])).astype(int)\n",
        "manpow_plan"
      ],
      "metadata": {
        "id": "uGODl6Z0ldNB"
      },
      "execution_count": null,
      "outputs": []
    },
    {
      "cell_type": "markdown",
      "source": [
        "Assumptions for manpower planning:\n",
        "1. Call volumes by time bucket on average remain same.\n",
        "2. Agent efficiency per time bucket remains same."
      ],
      "metadata": {
        "id": "5dz7ZcAAyvYc"
      }
    },
    {
      "cell_type": "code",
      "source": [
        "manpow_plot = manpow_plan.reset_index()[['Time_Bucket','Num_Agents','Extra_Agents_required']].melt('Time_Bucket', var_name='cols', value_name='vals')\n",
        "plt.figure(figsize=(10,5))\n",
        "ax = sns.barplot(data=manpow_plot, x='Time_Bucket', y='vals', hue='cols')\n",
        "ax.get_legend().set_title(\"\")\n",
        "ax.legend(fontsize=7.5)\n",
        "plt.show()"
      ],
      "metadata": {
        "id": "btYIEpYF0P4j"
      },
      "execution_count": null,
      "outputs": []
    },
    {
      "cell_type": "code",
      "source": [
        "manpow_plan['Total_Calls'] = manpow_plan['answered']+manpow_plan['abandon']+manpow_plan['transfer']\n",
        "manpow_plan['Calls_per_day'] = round(manpow_plan['Total_Calls']/23,2)\n",
        "manpow_plan['Desired_answer_calls'] = round(0.9*manpow_plan['Calls_per_day'],2)\n",
        "manpow_plan"
      ],
      "metadata": {
        "id": "bJC_24yIzdYQ"
      },
      "execution_count": null,
      "outputs": []
    },
    {
      "cell_type": "code",
      "source": [
        "working_hours = 9\n",
        "break_time = 1.5\n",
        "actual_working_hours = working_hours - break_time\n",
        "agent_eff = 0.6\n",
        "call_time = agent_eff*actual_working_hours\n",
        "calls_answered_per_working_day = call_time*3600/avg_call_duration\n",
        "calls_answered_per_hour = calls_answered_per_working_day/call_time\n",
        "\n",
        "manpow_plan['Desired_Agents'] = (np.ceil(manpow_plan['Desired_answer_calls']/calls_answered_per_hour)).astype(int)\n",
        "\n",
        "manpow_plan"
      ],
      "metadata": {
        "id": "xzETP4s0NkPL"
      },
      "execution_count": null,
      "outputs": []
    },
    {
      "cell_type": "code",
      "source": [
        "plt.figure(figsize=(8,5))\n",
        "sns.barplot(x=manpow_plan.index, y=1-manpow_plan['answer_rate'])\n",
        "plt.ylabel('Abandon Rate')\n",
        "plt.show()"
      ],
      "metadata": {
        "id": "P_xsJBN4w9SQ"
      },
      "execution_count": null,
      "outputs": []
    },
    {
      "cell_type": "code",
      "source": [
        "plt.figure(figsize=(8,5))\n",
        "sns.lineplot(x=manpow_plan.index, y=manpow_plan['Desired_Agents'], marker='o')\n",
        "plt.yticks(range(0, 36,2))\n",
        "plt.show()"
      ],
      "metadata": {
        "id": "WpcCGqZChDdO"
      },
      "execution_count": null,
      "outputs": []
    },
    {
      "cell_type": "markdown",
      "source": [
        "#### Nightime Manpower Planning"
      ],
      "metadata": {
        "id": "uPu8Is-vrigx"
      }
    },
    {
      "cell_type": "code",
      "source": [
        "avg_daytime_calls = manpow_plan['Desired_answer_calls'].sum()\n",
        "avg_nightime_calls = 0.3*avg_daytime_calls\n",
        "\n",
        "night_manpow_plan = pd.DataFrame(\n",
        "    {\n",
        "        'Time_Bucket':['9-10','10-11','11-12','12-1','1-2','2-3','3-4','4-5','5-6','6-7','7-8','8-9'],\n",
        "        'Distribution_30_calls':[3,3,2,2,1,1,1,1,3,4,4,5]\n",
        "    }\n",
        ")\n",
        "\n",
        "night_manpow_plan"
      ],
      "metadata": {
        "id": "3A7K3jM6hfGd"
      },
      "execution_count": null,
      "outputs": []
    },
    {
      "cell_type": "code",
      "source": [
        "night_manpow_plan['Total_Distribution'] = night_manpow_plan['Distribution_30_calls']*avg_nightime_calls/30\n",
        "night_manpow_plan['Desired_Agents'] = (np.ceil(night_manpow_plan['Total_Distribution']/calls_answered_per_hour)).astype(int)\n",
        "night_manpow_plan"
      ],
      "metadata": {
        "id": "NBlheKnkrzPS"
      },
      "execution_count": null,
      "outputs": []
    },
    {
      "cell_type": "code",
      "source": [
        "plt.figure(figsize=(8,5))\n",
        "sns.lineplot(data=night_manpow_plan, x='Time_Bucket', y='Desired_Agents', marker='o')\n",
        "plt.yticks(range(0,16,2))\n",
        "plt.show()"
      ],
      "metadata": {
        "id": "mBgUiaKhvDpi"
      },
      "execution_count": null,
      "outputs": []
    },
    {
      "cell_type": "code",
      "source": [],
      "metadata": {
        "id": "54KQ0DziwcIP"
      },
      "execution_count": null,
      "outputs": []
    }
  ]
}